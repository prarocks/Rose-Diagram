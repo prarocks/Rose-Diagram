{
  "nbformat": 4,
  "nbformat_minor": 0,
  "metadata": {
    "colab": {
      "provenance": [],
      "authorship_tag": "ABX9TyMF8z4Fw7hV9WciW1Q93XLm",
      "include_colab_link": true
    },
    "kernelspec": {
      "name": "python3",
      "display_name": "Python 3"
    },
    "language_info": {
      "name": "python"
    }
  },
  "cells": [
    {
      "cell_type": "markdown",
      "metadata": {
        "id": "view-in-github",
        "colab_type": "text"
      },
      "source": [
        "<a href=\"https://colab.research.google.com/github/prarocks/Rose-Diagram/blob/main/Rose_diagram.ipynb\" target=\"_parent\"><img src=\"https://colab.research.google.com/assets/colab-badge.svg\" alt=\"Open In Colab\"/></a>"
      ]
    },
    {
      "cell_type": "code",
      "execution_count": null,
      "metadata": {
        "id": "7iNDbBtoVNRn"
      },
      "outputs": [],
      "source": [
        "# 1. Import Required Libraries\n",
        "import numpy as np\n",
        "import matplotlib.pyplot as plt\n",
        "\n",
        "# 2️. User Inputs\n",
        "\n",
        "# Joint dip directions (in degrees)\n",
        "# Example: three joint sets centered at 255°, 105°, and 210°\n",
        "dip_directions = [255, 105, 210]\n",
        "\n",
        "# Corresponding frequencies or counts\n",
        "frequencies = [10, 8, 7]\n",
        "\n",
        "# Width of each bar (in degrees)\n",
        "bar_width_deg = 10\n",
        "\n",
        "# Title for the plot\n",
        "plot_title = \"Joint Rose Diagram - Location 1\"\n",
        "\n",
        "# 3️. Prepare Data\n",
        "\n",
        "# Extend directions to include opposite sides (180° apart)\n",
        "extended_directions = dip_directions + [(d + 180) % 360 for d in dip_directions]\n",
        "extended_frequencies = frequencies + frequencies  # duplicate frequencies for symmetry\n",
        "\n",
        "# Convert degrees to radians\n",
        "extended_angles = np.radians(extended_directions)\n",
        "bar_width = np.radians(bar_width_deg)\n",
        "\n",
        "# 4️. Compute Mean and Perpendicular Angles\n",
        "\n",
        "# Compute circular mean for first two sets\n",
        "mean_angle_rad = np.arctan2(\n",
        "    np.sin(np.radians(dip_directions[:2])).sum(),\n",
        "    np.cos(np.radians(dip_directions[:2])).sum()\n",
        ")\n",
        "mean_angle_deg = np.degrees(mean_angle_rad) % 360\n",
        "\n",
        "# Bisecting and perpendicular directions\n",
        "bisecting_angles = [mean_angle_deg, (mean_angle_deg + 180) % 360]\n",
        "perpendicular_angles = [(mean_angle_deg + 90) % 360, (mean_angle_deg + 270) % 360]\n",
        "\n",
        "# Print computed angles for clarity\n",
        "print(\"Bisecting Angles (°):\", [round(a, 2) for a in bisecting_angles])\n",
        "print(\"Perpendicular Angles (°):\", [round(a, 2) for a in perpendicular_angles])\n",
        "\n",
        "# 5️. Create Polar Plot\n",
        "\n",
        "fig, ax = plt.subplots(figsize=(7, 7), subplot_kw={'projection': 'polar'})\n",
        "\n",
        "# Plot bars\n",
        "colors = ['#0077b6', '#ff6b6b', '#2ecc71'] * 2  # repeated for symmetry\n",
        "bars = ax.bar(extended_angles, extended_frequencies, width=bar_width,\n",
        "              color=colors, alpha=0.7, edgecolor='black', linewidth=1.2)\n",
        "\n",
        "# Plot bisecting lines\n",
        "for angle in bisecting_angles:\n",
        "    ax.plot([np.radians(angle), np.radians(angle)],\n",
        "            [0, max(frequencies) + 2],\n",
        "            linestyle=\"--\", linewidth=2, color=\"black\", label=\"Bisecting Line\")\n",
        "\n",
        "# Plot perpendicular lines\n",
        "for angle in perpendicular_angles:\n",
        "    ax.plot([np.radians(angle), np.radians(angle)],\n",
        "            [0, max(frequencies) + 2],\n",
        "            linestyle=\":\", linewidth=2, color=\"purple\", label=\"Perpendicular Line\")\n",
        "\n",
        "# 6️. Customize the Plot\n",
        "ax.set_theta_zero_location('N')     # 0° at North\n",
        "ax.set_theta_direction(-1)          # Clockwise angles\n",
        "ax.set_xticks(np.radians(np.arange(0, 360, 30)))\n",
        "ax.set_rlabel_position(0)\n",
        "ax.set_title(plot_title, va='bottom', fontsize=14, weight='bold')\n",
        "\n",
        "# Avoid duplicate legend entries\n",
        "handles, labels = ax.get_legend_handles_labels()\n",
        "unique = dict(zip(labels, handles))\n",
        "ax.legend(unique.values(), unique.keys(),\n",
        "          loc='upper right', bbox_to_anchor=(1.2, 1.1))\n",
        "\n",
        "# 7️. Display\n",
        "plt.tight_layout()\n",
        "plt.show()\n"
      ]
    }
  ]
}