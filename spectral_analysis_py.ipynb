{
  "nbformat": 4,
  "nbformat_minor": 0,
  "metadata": {
    "colab": {
      "provenance": [],
      "authorship_tag": "ABX9TyOCUIFfkp19+WBAAUHZd4lY",
      "include_colab_link": true
    },
    "kernelspec": {
      "name": "python3",
      "display_name": "Python 3"
    },
    "language_info": {
      "name": "python"
    }
  },
  "cells": [
    {
      "cell_type": "markdown",
      "metadata": {
        "id": "view-in-github",
        "colab_type": "text"
      },
      "source": [
        "<a href=\"https://colab.research.google.com/github/prarocks/Rose-Diagram/blob/main/spectral_analysis_py.ipynb\" target=\"_parent\"><img src=\"https://colab.research.google.com/assets/colab-badge.svg\" alt=\"Open In Colab\"/></a>"
      ]
    },
    {
      "cell_type": "code",
      "execution_count": null,
      "metadata": {
        "id": "sAtSbmdDodGu"
      },
      "outputs": [],
      "source": [
        "# --- Spectral Analysis of Time Series Data ---\n",
        "# Author: Prasanna Dahal\n",
        "\n",
        "import numpy as np\n",
        "import matplotlib.pyplot as plt\n",
        "\n",
        "def perform_spectral_analysis(data):\n",
        "    \"\"\"\n",
        "    Performs spectral analysis on the given time series data using Fourier series.\n",
        "\n",
        "    Parameters:\n",
        "        data (list or np.ndarray): Time series data (e.g., monthly runoff values)\n",
        "\n",
        "    Displays:\n",
        "        - Spectral analysis table (in console)\n",
        "        - Line spectrum plot\n",
        "    \"\"\"\n",
        "    data = np.array(data)\n",
        "    n = len(data)\n",
        "    x_bar = np.mean(data)\n",
        "\n",
        "    # Determine the number of harmonics\n",
        "    q = n // 2 if n % 2 == 0 else (n - 1) // 2\n",
        "\n",
        "    fm = np.arange(1, q + 1) / n\n",
        "    am, bm = np.zeros(q), np.zeros(q)\n",
        "    t = np.arange(1, n + 1)\n",
        "\n",
        "    for m in range(1, q + 1):\n",
        "        cos_ = np.cos(2 * np.pi * m * t / n)\n",
        "        sin_ = np.sin(2 * np.pi * m * t / n)\n",
        "        if m < q or n % 2 != 0:\n",
        "            am[m - 1] = (2 / n) * np.dot(data, cos_)\n",
        "            bm[m - 1] = (2 / n) * np.dot(data, sin_)\n",
        "        else:\n",
        "            # Nyquist frequency case (when n is even)\n",
        "            am[m - 1] = (1 / n) * np.dot(data, cos_)\n",
        "            bm[m - 1] = 0\n",
        "\n",
        "    cm_sq = am**2 + bm**2\n",
        "    phi = np.degrees(np.arctan2(-bm, am))\n",
        "    contrib = cm_sq / 2\n",
        "    total_var = np.sum(contrib)\n",
        "    percent = 100 * contrib / total_var if total_var > 0 else np.zeros(q)\n",
        "\n",
        "    # Print results table\n",
        "    print(\"n =\", n)\n",
        "    print(\"Harmonic | m | fm=m/n | am | bm | cm²=am²+bm² | Øm (deg) | Var. contrib | % Var.\")\n",
        "    print(\"-\" * 90)\n",
        "    for i in range(q):\n",
        "        print(f\"{i+1:8d} | {fm[i]:.5f} | {am[i]:.6f} | {bm[i]:.6f} | {cm_sq[i]:.6f} | {phi[i]:.2f} | {contrib[i]:.6f} | {percent[i]:.2f}\")\n",
        "\n",
        "    print(f\"\\nTotal Variance = {total_var:.6f}\\n\")\n",
        "\n",
        "    # Plot the line spectrum\n",
        "    plt.figure(figsize=(10, 6))\n",
        "    plt.stem(fm, cm_sq, linefmt='b-', markerfmt='bo', basefmt='r-')\n",
        "    plt.xlabel('Frequency (fm = m/n)')\n",
        "    plt.ylabel('cm² (am² + bm²)')\n",
        "    plt.title('Line Spectrum (Variance Spectrum / Periodogram)')\n",
        "    plt.grid(True)\n",
        "    plt.show()\n",
        "\n",
        "\n",
        "if __name__ == \"__main__\":\n",
        "    # Example data (Monthly runoff values) (Replace with any data you seem fit)\n",
        "    runoff_data = [\n",
        "        14.6859, 48.1636, 60.05, 41.9818, 17.5454, 7.1332,\n",
        "        4.3505, 3.3805, 2.885, 2.7795, 2.7982, 3.9386\n",
        "    ]\n",
        "    perform_spectral_analysis(runoff_data)\n"
      ]
    }
  ]
}